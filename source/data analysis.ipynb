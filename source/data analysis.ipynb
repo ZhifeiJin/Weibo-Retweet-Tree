{
 "cells": [
  {
   "cell_type": "code",
   "execution_count": 1,
   "metadata": {},
   "outputs": [],
   "source": [
    "import pandas as pd\n",
    "import csv"
   ]
  },
  {
   "cell_type": "code",
   "execution_count": 4,
   "metadata": {},
   "outputs": [
    {
     "name": "stdout",
     "output_type": "stream",
     "text": [
      "总共有940个超话\n",
      "1008080703a731d2b7ae8c012da88512af5116 0\n",
      "1008081afd77d3b9448e9dde524ec8758c0c32 1\n",
      "1008083129cd49c2a562405a9bbe0abc7d0ac0 2\n",
      "10080835720d812947b45c46e9902fab2c1768 3\n",
      "100808b9a6908cc1d1a91249f602ee1b72624c 4\n",
      "10080821e380312347158ada5a9f6a965f6789 5\n",
      "10080826392517db2836d4701332bc670e1c09 6\n",
      "100808a00f17a0ea89809c11926d861b3208af 7\n",
      "100808bb3bdea1fba9b8b940c3cb788d3f0aae 8\n",
      "1008081d2625e817ea950bd88b4f821fe39fe6 9\n",
      "10080893149e78e40bed1d25d9621557326ea4 10\n",
      "1008087616269fc337fa6b778e2cbe63daf20 11\n",
      "100808e37a99650060a0c3cbaa5b97bdd861e2 12\n",
      "100808ae50ad71f8cbdf0833e83008f8c29c32 13\n",
      "10080859a6b19a0e84d23fd383808ae859ec23 14\n",
      "1008082dc8bef99fe525eaae90cb77cd06f341 15\n",
      "100808d2a4e7e5f904f76d96469076d41fafae 16\n",
      "1008087a8941058aaf4df5147042ce104568da 17\n",
      "10080881ba82b61fd26fdcf9fdac6ae7544411 18\n",
      "100808b0b67d4a7b26b5c396a9e34ce42736fc 19\n"
     ]
    }
   ],
   "source": [
    "data = pd.read_csv(\"SuperTopics.csv\")\n",
    "references = data[\"Url\"]\n",
    "supertopic = data[\"Id\"]\n",
    "weibo = []\n",
    "print(\"总共有%d个超话\" % (len(references)))\n",
    "for i in range(0, 20):\n",
    "    row = references[i]\n",
    "    supertopicid = supertopic[i]\n",
    "    print(row,supertopicid)"
   ]
  },
  {
   "cell_type": "code",
   "execution_count": null,
   "metadata": {},
   "outputs": [],
   "source": []
  }
 ],
 "metadata": {
  "kernelspec": {
   "display_name": "Python 3",
   "language": "python",
   "name": "python3"
  },
  "language_info": {
   "codemirror_mode": {
    "name": "ipython",
    "version": 3
   },
   "file_extension": ".py",
   "mimetype": "text/x-python",
   "name": "python",
   "nbconvert_exporter": "python",
   "pygments_lexer": "ipython3",
   "version": "3.7.2"
  }
 },
 "nbformat": 4,
 "nbformat_minor": 2
}
